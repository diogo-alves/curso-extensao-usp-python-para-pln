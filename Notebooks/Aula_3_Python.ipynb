{
  "nbformat": 4,
  "nbformat_minor": 0,
  "metadata": {
    "colab": {
      "name": "Aula 3 - Python.ipynb",
      "provenance": [],
      "collapsed_sections": [],
      "toc_visible": true
    },
    "kernelspec": {
      "name": "python3",
      "display_name": "Python 3"
    },
    "language_info": {
      "name": "python"
    }
  },
  "cells": [
    {
      "cell_type": "code",
      "metadata": {
        "colab": {
          "base_uri": "https://localhost:8080/"
        },
        "id": "YBtErk7SrQ9Z",
        "outputId": "dcb992de-9c1b-4834-941e-30b5b95c3d86"
      },
      "source": [
        "from pathlib import Path\n",
        "\n",
        "from google.colab import drive\n",
        "\n",
        "\n",
        "drive.mount('/content/drive')\n",
        "BASE_DIR = Path('/content/drive/MyDrive/Cursos/Python para Processamento de Linguagem Natural (USP)/Aula 3')"
      ],
      "execution_count": null,
      "outputs": [
        {
          "output_type": "stream",
          "name": "stdout",
          "text": [
            "Drive already mounted at /content/drive; to attempt to forcibly remount, call drive.mount(\"/content/drive\", force_remount=True).\n"
          ]
        }
      ]
    },
    {
      "cell_type": "markdown",
      "metadata": {
        "id": "tYgCJT5LDhJ4"
      },
      "source": [
        "# Exercícios de fixação"
      ]
    },
    {
      "cell_type": "markdown",
      "metadata": {
        "id": "D5ZSVHJx4eLQ"
      },
      "source": [
        "## 1. Dado o arquivo qbdata.txt, retorne o rating de cada QB na forma “nome do QB teve valor XX.X\":"
      ]
    },
    {
      "cell_type": "code",
      "metadata": {
        "colab": {
          "base_uri": "https://localhost:8080/"
        },
        "id": "2QaKiys_1QkN",
        "outputId": "c3f9aa89-b181-4e8a-fea2-6f8740e88650"
      },
      "source": [
        "from pathlib import Path\n",
        "\n",
        "\n",
        "with open(BASE_DIR / 'qbdata.txt', 'r') as f:\n",
        "    for row in f.readlines():\n",
        "        first_name, last_name, *_, rating = row.split()\n",
        "        print(f'{first_name} {last_name} teve valor {rating}')"
      ],
      "execution_count": null,
      "outputs": [
        {
          "output_type": "stream",
          "name": "stdout",
          "text": [
            "Colt McCoy teve valor 74.5\n",
            "Josh Freeman teve valor 95.9\n",
            "Michael Vick teve valor 100.2\n",
            "Matt Schaub teve valor 92.0\n",
            "Philip Rivers teve valor 101.8\n",
            "Matt Hasselbeck teve valor 73.2\n",
            "Jimmy Clausen teve valor 58.4\n",
            "Joe Flacco teve valor 93.6\n",
            "Kyle Orton teve valor 87.5\n",
            "Jason Campbell teve valor 84.5\n",
            "Peyton Manning teve valor 91.9\n",
            "Drew Brees teve valor 90.9\n",
            "Matt Ryan teve valor 91.0\n",
            "Matt Cassel teve valor 93.0\n",
            "Mark Sanchez teve valor 75.3\n",
            "Brett Favre teve valor 69.9\n",
            "David Garrard teve valor 90.8\n",
            "Eli Manning teve valor 85.3\n",
            "Carson Palmer teve valor 82.4\n",
            "Alex Smith teve valor 82.1\n",
            "Chad Henne teve valor 75.4\n",
            "Tony Romo teve valor 94.9\n",
            "Jay Cutler teve valor 86.3\n",
            "Jon Kitna teve valor 88.9\n",
            "Tom Brady teve valor 111.0\n",
            "Ben Roethlisberger teve valor 97.0\n",
            "Kerry Collins teve valor 82.2\n",
            "Derek Anderson teve valor 65.9\n",
            "Ryan Fitzpatrick teve valor 81.8\n",
            "Donovan McNabb teve valor 77.1\n",
            "Kevin Kolb teve valor 76.1\n",
            "Aaron Rodgers teve valor 101.2\n",
            "Sam Bradford teve valor 76.5\n",
            "Shaun Hill teve valor 81.3\n"
          ]
        }
      ]
    },
    {
      "cell_type": "markdown",
      "metadata": {
        "id": "3pooFZkr4so9"
      },
      "source": [
        "## 2. Pensando em uma agenda, construa um dicionário com informações do contato sendo: CPF, nome, telefone e user no Twitter. Ao final, imprima os dados dos contatos na forma '*CPF: nome, telefone (user)*'."
      ]
    },
    {
      "cell_type": "code",
      "metadata": {
        "colab": {
          "base_uri": "https://localhost:8080/"
        },
        "id": "swLu1q0Z-zDf",
        "outputId": "7be125db-1394-4846-98e5-ac5f917b8fe8"
      },
      "source": [
        "# dados fakes gerados por https://www.4devs.com.br/gerador_de_pessoas\n",
        "contact_book = [\n",
        "    {\n",
        "        'cpf': '322.586.879-50',\n",
        "        'nome': 'Julia Joana Freitas',\n",
        "        'telefone': '(69) 99997-0302',\n",
        "        'user': 'juliajoanafreitas',\n",
        "    },\n",
        "    {\n",
        "        'cpf': '059.407.997-79',\n",
        "        'nome': 'Henry Augusto Gonçalves',\n",
        "        'telefone': '(51) 2593-3138',\n",
        "        'user': 'henryaugustogoncalves',\n",
        "    },\n",
        "]\n",
        "for contact in contact_book:\n",
        "    cpf, name, phone, user = contact.values()\n",
        "    print(f'{cpf}: {name}, {phone} ({user})')\n"
      ],
      "execution_count": null,
      "outputs": [
        {
          "output_type": "stream",
          "name": "stdout",
          "text": [
            "322.586.879-50: Julia Joana Freitas, (69) 99997-0302 (juliajoanafreitas)\n",
            "059.407.997-79: Henry Augusto Gonçalves, (51) 2593-3138 (henryaugustogoncalves)\n"
          ]
        }
      ]
    },
    {
      "cell_type": "markdown",
      "metadata": {
        "id": "qFEsKTc7SCW5"
      },
      "source": [
        "# Lista de exercícios 1"
      ]
    },
    {
      "cell_type": "markdown",
      "metadata": {
        "id": "O1TP994y5UXG"
      },
      "source": [
        "## 1. Crie  três  variáveis e  atribua  os  valores  a  seguir: a=1, b=5.9 e c=‘teste’. A partir disso, retorne o tipo de cada uma das variáveis."
      ]
    },
    {
      "cell_type": "code",
      "metadata": {
        "colab": {
          "base_uri": "https://localhost:8080/"
        },
        "id": "CLbhFx3jSDqD",
        "outputId": "5a61c922-e174-4a66-9443-e07f4bbe9812"
      },
      "source": [
        "a, b, c = 1, 5.9, 'teste'\n",
        "print(type(a), type(b), type(c))"
      ],
      "execution_count": null,
      "outputs": [
        {
          "output_type": "stream",
          "name": "stdout",
          "text": [
            "<class 'int'> <class 'float'> <class 'str'>\n"
          ]
        }
      ]
    },
    {
      "cell_type": "markdown",
      "metadata": {
        "id": "v2no2YFV5bDA"
      },
      "source": [
        "## 2. Troque o valor da variável a por '1' e verifique se o tipo da variável mudou."
      ]
    },
    {
      "cell_type": "code",
      "metadata": {
        "colab": {
          "base_uri": "https://localhost:8080/"
        },
        "id": "Esx1DUxES0Hs",
        "outputId": "3a9ec1e8-23e2-45ef-e84a-f50ed5a76122"
      },
      "source": [
        "a, b, c = '1', 5.9, 'teste'\n",
        "print(type(a), type(b), type(c))"
      ],
      "execution_count": null,
      "outputs": [
        {
          "output_type": "stream",
          "name": "stdout",
          "text": [
            "<class 'str'> <class 'float'> <class 'str'>\n"
          ]
        }
      ]
    },
    {
      "cell_type": "markdown",
      "metadata": {
        "id": "aOtvxkhw69aO"
      },
      "source": [
        "## 3. Faça a soma da variável b com a variável c. Interprete a saída, tanto em caso de execução correta quanto em caso de execução com erro."
      ]
    },
    {
      "cell_type": "code",
      "metadata": {
        "colab": {
          "base_uri": "https://localhost:8080/"
        },
        "id": "_myS_7BwTFLL",
        "outputId": "64abc0f6-1a27-4a75-bc69-68328d22eb69"
      },
      "source": [
        "b, c = 5.9, 'teste'\n",
        "try:\n",
        "    print(b + c)\n",
        "except TypeError as e:\n",
        "    print(e)"
      ],
      "execution_count": null,
      "outputs": [
        {
          "output_type": "stream",
          "name": "stdout",
          "text": [
            "unsupported operand type(s) for +: 'float' and 'str'\n"
          ]
        }
      ]
    },
    {
      "cell_type": "markdown",
      "metadata": {
        "id": "t6NG-plY7L9Q"
      },
      "source": [
        "## 4. Crie uma lista com números de 0 a 9 (em qualquer ordem). Com ela, faça:\n",
        "\n",
        "a. Adicione o número 6\n",
        "\n",
        "b. Insira o número 7 na 3ª posição da lista\n",
        "\n",
        "c. Remova o elemento 3 da lista\n",
        "\n",
        "d. Adicione o número 4\n",
        "\n",
        "e. Verifique o número de ocorrências do número 4 na lista"
      ]
    },
    {
      "cell_type": "code",
      "metadata": {
        "colab": {
          "base_uri": "https://localhost:8080/"
        },
        "id": "3cdQMWyATeBA",
        "outputId": "10f7c786-a7df-46a5-9755-71f54275ca6e"
      },
      "source": [
        "numbers = [1, 4, 5, 3, 9, 2, 0, 7, 8, 6]\n",
        "numbers.append(6)\n",
        "print('a:', numbers)\n",
        "numbers.insert(2, 7)\n",
        "print('b:', numbers)\n",
        "numbers.pop(3)\n",
        "print('c:', numbers)\n",
        "numbers.append(4)\n",
        "print('d:', numbers)\n",
        "print('e:', numbers.count(4))"
      ],
      "execution_count": null,
      "outputs": [
        {
          "output_type": "stream",
          "name": "stdout",
          "text": [
            "a: [1, 4, 5, 3, 9, 2, 0, 7, 8, 6, 6]\n",
            "b: [1, 4, 7, 5, 3, 9, 2, 0, 7, 8, 6, 6]\n",
            "c: [1, 4, 7, 3, 9, 2, 0, 7, 8, 6, 6]\n",
            "d: [1, 4, 7, 3, 9, 2, 0, 7, 8, 6, 6, 4]\n",
            "e: 2\n"
          ]
        }
      ]
    },
    {
      "cell_type": "markdown",
      "metadata": {
        "id": "Kd_ryFFk9TtS"
      },
      "source": [
        "## 5. Ainda com a lista criada na questão anterior, faça:\n",
        "\n",
        "a. Retorne os primeiros 3 elementos da lista\n",
        "\n",
        "b. Retorne os elementos que estão da 3ª posição até a 7ª posição da lista\n",
        "\n",
        "c. Retorne os elementos da lista de 3 em 3 elementos\n",
        "\n",
        "d. Retorne os 3 últimos elementos da lista\n",
        "\n",
        "e. Retorne todos os elementos menos os 4 últimos da lista"
      ]
    },
    {
      "cell_type": "code",
      "metadata": {
        "colab": {
          "base_uri": "https://localhost:8080/"
        },
        "id": "1c9HkrZnUq5G",
        "outputId": "30235fa0-e471-40d5-8a73-4f88972d6172"
      },
      "source": [
        "print('a:', numbers[:4])\n",
        "print('b:', numbers[3:8])\n",
        "print('c:', numbers[::3])\n",
        "print('d:', numbers[-3:])\n",
        "print('d:', numbers[:-4])"
      ],
      "execution_count": null,
      "outputs": [
        {
          "output_type": "stream",
          "name": "stdout",
          "text": [
            "a: [1, 4, 7, 3]\n",
            "b: [3, 9, 2, 0, 7]\n",
            "c: [1, 3, 0, 6]\n",
            "d: [6, 6, 4]\n",
            "d: [1, 4, 7, 3, 9, 2, 0, 7]\n"
          ]
        }
      ]
    },
    {
      "cell_type": "markdown",
      "metadata": {
        "id": "ZV-Zll2y9bDR"
      },
      "source": [
        "## 6. Com a lista das questões anteriores, retorne o 6º elemento da lista."
      ]
    },
    {
      "cell_type": "code",
      "metadata": {
        "colab": {
          "base_uri": "https://localhost:8080/"
        },
        "id": "KSN-KYJgXaLK",
        "outputId": "3e091b55-2678-4830-8626-e79c071fc265"
      },
      "source": [
        "print(numbers[5])"
      ],
      "execution_count": null,
      "outputs": [
        {
          "output_type": "stream",
          "name": "stdout",
          "text": [
            "2\n"
          ]
        }
      ]
    },
    {
      "cell_type": "markdown",
      "metadata": {
        "id": "QZaYrcIE9fHg"
      },
      "source": [
        "## 7. Altere o valor do 7º elemento da lista para o valor 12."
      ]
    },
    {
      "cell_type": "code",
      "metadata": {
        "colab": {
          "base_uri": "https://localhost:8080/"
        },
        "id": "4JdgcTORXooP",
        "outputId": "05af53d0-3835-4816-cbbb-55eb8a7def11"
      },
      "source": [
        "numbers[6] = 12\n",
        "print(numbers)"
      ],
      "execution_count": null,
      "outputs": [
        {
          "output_type": "stream",
          "name": "stdout",
          "text": [
            "[1, 4, 7, 3, 9, 2, 12, 7, 8, 6, 6, 4]\n"
          ]
        }
      ]
    },
    {
      "cell_type": "markdown",
      "metadata": {
        "id": "YSn9Lxg89lKX"
      },
      "source": [
        "## 8. Inverta a ordem dos elementos na lista."
      ]
    },
    {
      "cell_type": "code",
      "metadata": {
        "colab": {
          "base_uri": "https://localhost:8080/"
        },
        "id": "XIdsvMYuX4Ri",
        "outputId": "9d3426d0-d397-4ced-b879-52e85bae6ea5"
      },
      "source": [
        "print(numbers[::-1])"
      ],
      "execution_count": null,
      "outputs": [
        {
          "output_type": "stream",
          "name": "stdout",
          "text": [
            "[4, 6, 6, 8, 7, 12, 2, 9, 3, 7, 4, 1]\n"
          ]
        }
      ]
    },
    {
      "cell_type": "markdown",
      "metadata": {
        "id": "pknvS5iK9uxD"
      },
      "source": [
        "## 9. Ordene a lista."
      ]
    },
    {
      "cell_type": "code",
      "metadata": {
        "colab": {
          "base_uri": "https://localhost:8080/"
        },
        "id": "9gibaNwyYDAy",
        "outputId": "96f35824-a6da-4a40-d0b1-8acb8d48ed80"
      },
      "source": [
        "print(sorted(numbers))"
      ],
      "execution_count": null,
      "outputs": [
        {
          "output_type": "stream",
          "name": "stdout",
          "text": [
            "[1, 2, 3, 4, 4, 6, 6, 7, 7, 8, 9, 12]\n"
          ]
        }
      ]
    },
    {
      "cell_type": "markdown",
      "metadata": {
        "id": "ocUpOU_I9-I6"
      },
      "source": [
        "## 10. Crie uma tupla com números de 0 a 9 (em qualquer ordem) e tente:\n",
        "\n",
        "a. Alterar o valor do 3º elemento da tupla para o valor 10\n",
        "\n",
        "b. Verificar o índice (posição) do valor 5 na tupla"
      ]
    },
    {
      "cell_type": "code",
      "metadata": {
        "colab": {
          "base_uri": "https://localhost:8080/"
        },
        "id": "7v9u-rjaYhoA",
        "outputId": "7c17f551-1a21-48d8-cca3-68b4b49dc5a6"
      },
      "source": [
        "numbers = (1, 4, 5, 3, 9, 2, 0, 7, 8, 6)\n",
        "try:\n",
        "    numbers[2] = 10\n",
        "except TypeError as e:\n",
        "    print('a:', e)\n",
        "\n",
        "print('b:', numbers.index(5))"
      ],
      "execution_count": null,
      "outputs": [
        {
          "output_type": "stream",
          "name": "stdout",
          "text": [
            "a: 'tuple' object does not support item assignment\n",
            "b: 2\n"
          ]
        }
      ]
    },
    {
      "cell_type": "markdown",
      "metadata": {
        "id": "wxhmGkEA3dFf"
      },
      "source": [
        ""
      ]
    },
    {
      "cell_type": "markdown",
      "metadata": {
        "id": "pH-VlsKe34LW"
      },
      "source": [
        "## 11. Crie um dicionário com 5 entradas e suas respectivas chaves e valores. Faça:\n",
        "\n",
        "a) Imprima todas as chaves do dicionário\n",
        "\n",
        "b) Imprima todos os valores do dicionário\n",
        "\n",
        "c) Imprima todos os itens do dicionário\n",
        "\n",
        "d) Imprima o 2º item do dicionário\n",
        "\n",
        "e) Imprima o dicionário completo\n",
        "\n",
        "f) Percorra o dicionário, imprimindo para cada entrada o modelo “(chave) tem \n",
        "como valor (valor)”"
      ]
    },
    {
      "cell_type": "code",
      "metadata": {
        "colab": {
          "base_uri": "https://localhost:8080/"
        },
        "id": "Q1xZN_PWZyqE",
        "outputId": "5c3a8f8f-eeb9-4a2b-c495-678a20ef7e24"
      },
      "source": [
        "data = {\n",
        "    'a': 1,\n",
        "    'b': 2,\n",
        "    'c': 3,\n",
        "    'd': 4,\n",
        "    'e': 5\n",
        "}\n",
        "\n",
        "print('a:', data.keys())\n",
        "print('b:', data.values())\n",
        "print('c:', data.items())\n",
        "print('d:', data['b'])\n",
        "print('e:', data)\n",
        "\n",
        "print('f:', ''.join(f'\\n{k} tem como valor {v}' for k, v in data.items()))"
      ],
      "execution_count": null,
      "outputs": [
        {
          "output_type": "stream",
          "name": "stdout",
          "text": [
            "a: dict_keys(['a', 'b', 'c', 'd', 'e'])\n",
            "b: dict_values([1, 2, 3, 4, 5])\n",
            "c: dict_items([('a', 1), ('b', 2), ('c', 3), ('d', 4), ('e', 5)])\n",
            "d: 2\n",
            "e: {'a': 1, 'b': 2, 'c': 3, 'd': 4, 'e': 5}\n",
            "f: \n",
            "a tem como valor 1\n",
            "b tem como valor 2\n",
            "c tem como valor 3\n",
            "d tem como valor 4\n",
            "e tem como valor 5\n"
          ]
        }
      ]
    },
    {
      "cell_type": "markdown",
      "metadata": {
        "id": "WTEj8kDW10Zf"
      },
      "source": [
        "## 12. Crie um arquivo e:"
      ]
    },
    {
      "cell_type": "markdown",
      "metadata": {
        "id": "YDpBJK-q2UZJ"
      },
      "source": [
        "a) Escreva nele os números de 1 a 10:"
      ]
    },
    {
      "cell_type": "code",
      "metadata": {
        "id": "jD09b3Jc2LGd"
      },
      "source": [
        "with open(BASE_DIR / 'ex12.txt', 'w') as f:\n",
        "    for i in range(1, 11):\n",
        "        f.write(f'{i}\\n')"
      ],
      "execution_count": null,
      "outputs": []
    },
    {
      "cell_type": "markdown",
      "metadata": {
        "id": "KOUGS_Va2X3V"
      },
      "source": [
        "b) Depois de escrito, imprima na tela todos os números do arquivo:"
      ]
    },
    {
      "cell_type": "code",
      "metadata": {
        "colab": {
          "base_uri": "https://localhost:8080/"
        },
        "id": "OJL7BkAj2cRJ",
        "outputId": "82692628-785f-4ecf-d6b1-f6bd79977a50"
      },
      "source": [
        "with open(BASE_DIR / 'ex12.txt', 'r') as f:\n",
        "    print(f.read())"
      ],
      "execution_count": null,
      "outputs": [
        {
          "output_type": "stream",
          "name": "stdout",
          "text": [
            "1\n",
            "2\n",
            "3\n",
            "4\n",
            "5\n",
            "6\n",
            "7\n",
            "8\n",
            "9\n",
            "10\n",
            "\n"
          ]
        }
      ]
    },
    {
      "cell_type": "markdown",
      "metadata": {
        "id": "tNYZl39-2hDY"
      },
      "source": [
        "c) Escreva no arquivo os números de 11 a 20, substituindo os números que estavam antes no arquivo:"
      ]
    },
    {
      "cell_type": "code",
      "metadata": {
        "id": "vk1hHz692iL1"
      },
      "source": [
        "with open(BASE_DIR / 'ex12.txt', 'w') as f:\n",
        "    for i in range(11, 21):\n",
        "        f.write(f'{i}\\n')"
      ],
      "execution_count": null,
      "outputs": []
    },
    {
      "cell_type": "markdown",
      "metadata": {
        "id": "_8Aq6Lrs2pk1"
      },
      "source": [
        "d) Escreva no arquivo os números de 21 a 30, adicionando os números no final do arquivo (sem apagar o que já estavam lá):"
      ]
    },
    {
      "cell_type": "code",
      "metadata": {
        "colab": {
          "base_uri": "https://localhost:8080/"
        },
        "id": "C4t950KP2qmC",
        "outputId": "b84ec48b-e0fd-4565-f696-bf8ead5b0d0f"
      },
      "source": [
        "with open(BASE_DIR / 'ex12.txt', 'a') as f:\n",
        "    print('d:')\n",
        "    for i in range(21, 31):\n",
        "        f.write(f'{i}\\n')"
      ],
      "execution_count": null,
      "outputs": [
        {
          "output_type": "stream",
          "name": "stdout",
          "text": [
            "d:\n"
          ]
        }
      ]
    },
    {
      "cell_type": "markdown",
      "metadata": {
        "id": "pm2tWY1k3Cyh"
      },
      "source": [
        "e) Imprima na tela todos os números do arquivo novamente (de 11 a 30):"
      ]
    },
    {
      "cell_type": "code",
      "metadata": {
        "colab": {
          "base_uri": "https://localhost:8080/"
        },
        "id": "risEvZKa3It5",
        "outputId": "e63ac660-7c29-4dc0-e5d4-fd137f5515f9"
      },
      "source": [
        "with open(BASE_DIR / 'ex12.txt', 'r') as f:\n",
        "    print(f.read())"
      ],
      "execution_count": null,
      "outputs": [
        {
          "output_type": "stream",
          "name": "stdout",
          "text": [
            "11\n",
            "12\n",
            "13\n",
            "14\n",
            "15\n",
            "16\n",
            "17\n",
            "18\n",
            "19\n",
            "20\n",
            "21\n",
            "22\n",
            "23\n",
            "24\n",
            "25\n",
            "26\n",
            "27\n",
            "28\n",
            "29\n",
            "30\n",
            "\n"
          ]
        }
      ]
    },
    {
      "cell_type": "markdown",
      "metadata": {
        "id": "X95QM9qr3MXS"
      },
      "source": [
        "f) Imprima  na  tela  todos  os  números  do  arquivo  novamente,  mas  agora linha por linha:"
      ]
    },
    {
      "cell_type": "code",
      "metadata": {
        "colab": {
          "base_uri": "https://localhost:8080/"
        },
        "id": "iHk5OQ1WdnRl",
        "outputId": "89b654bd-9ae1-44b3-ec5e-893ffc86625a"
      },
      "source": [
        "with open(BASE_DIR / 'ex12.txt', 'r') as f:\n",
        "    print(''.join(row for row in f.readlines()))"
      ],
      "execution_count": null,
      "outputs": [
        {
          "output_type": "stream",
          "name": "stdout",
          "text": [
            "11\n",
            "12\n",
            "13\n",
            "14\n",
            "15\n",
            "16\n",
            "17\n",
            "18\n",
            "19\n",
            "20\n",
            "21\n",
            "22\n",
            "23\n",
            "24\n",
            "25\n",
            "26\n",
            "27\n",
            "28\n",
            "29\n",
            "30\n",
            "\n"
          ]
        }
      ]
    }
  ]
}